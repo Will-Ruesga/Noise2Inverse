{
 "cells": [
  {
   "cell_type": "markdown",
   "metadata": {},
   "source": [
    "# Circular Movement Simulation\n",
    "In this notebook we will make use of the calibration phantom and simulate the first movement, the circular beam around it.\n",
    "\n",
    "We will make use of our phantom as well as make different types of reconstruction (for starters we will use the SIRT) and evaluate the best methods and showcase the results with svg videos."
   ]
  },
  {
   "cell_type": "code",
   "execution_count": null,
   "metadata": {},
   "outputs": [],
   "source": [
    "import tomosipo as ts\n",
    "import numpy as np\n",
    "import matplotlib.pyplot as plt"
   ]
  },
  {
   "cell_type": "code",
   "execution_count": null,
   "metadata": {},
   "outputs": [],
   "source": [
    "# ------------------------------------------- Constants ------------------------------------------ #\n",
    "PHANTOM_PATH = 'C:/Users/wilru/Documents/LU/S4/Thesis/simulation/phantoms/'\n",
    "PHANTOM_PIXELS = 512\n"
   ]
  },
  {
   "cell_type": "markdown",
   "metadata": {},
   "source": [
    "### Geometry\n",
    "\n",
    "First step is to create the geometry, in which we will use the parallel beam geometry, adding a range of 360 angles, to make 360 different slices to our circular movement."
   ]
  },
  {
   "cell_type": "code",
   "execution_count": null,
   "metadata": {},
   "outputs": [],
   "source": [
    "# Create volume\n",
    "'''\n",
    "    Creates a volume.\n",
    "    - The volume is a three-dimensional unit cube\n",
    "        and is composed of 32 voxels in each dimension.\n",
    "'''\n",
    "vg = ts.volume(shape=(PHANTOM_PIXELS, PHANTOM_PIXELS, PHANTOM_PIXELS), size=(1, 1, 1))\n",
    "# print(vg)\n",
    "\n",
    "# Create circular parallel beam projection geometry\n",
    "'''\n",
    "    Creates a circular parallel-beam projection geometry.\n",
    "    - The parallel-beam geometry has 32 angles that are\n",
    "        equi-spaced over a half arc.\n",
    "    - The detector has 48 pixels in each dimension and\n",
    "        1.5 units high and wide.\n",
    "'''\n",
    "pg = ts.parallel(angles=360, shape=(PHANTOM_PIXELS, PHANTOM_PIXELS), size=(1.5, 1.5))\n",
    "# print(pg)\n",
    "\n",
    "# Display volume and geometry as an svg animation\n",
    "svg = ts.svg(vg, pg)\n",
    "svg"
   ]
  },
  {
   "cell_type": "markdown",
   "metadata": {},
   "source": [
    "### Projection\n",
    "Secondly, we create the projection usign the projector operator A and a set of data x.\n",
    "In here we will load our corresponding phantom (calibration phantom), previously generated and saved."
   ]
  },
  {
   "cell_type": "code",
   "execution_count": null,
   "metadata": {},
   "outputs": [],
   "source": [
    "# CLoad projection data ---> calibration phantom\n",
    "x = np.load(PHANTOM_PATH + 'calibration_phantom.npy')\n",
    "x = np.load(\"../phantoms/foam_phantom.npy\")"
   ]
  },
  {
   "cell_type": "code",
   "execution_count": null,
   "metadata": {},
   "outputs": [],
   "source": [
    "# In order to make sure the phantom is correct we will print some slices\n",
    "x_t = x.transpose(2, 0, 1)\n",
    "fig = plt.figure(figsize=(8, 8))\n",
    "plt.subplot(2, 2, 1)\n",
    "plt.title(\"Slice 2\")\n",
    "plt.imshow(x[2, :, :], cmap='gray')\n",
    "plt.subplot(2, 2, 2)\n",
    "plt.title(f\"Transposed - Slice {PHANTOM_PIXELS // 4}\")\n",
    "plt.imshow(x_t[PHANTOM_PIXELS // 4, :, :], cmap='gray')\n",
    "plt.subplot(2, 2, 3)\n",
    "plt.title(f\"Transposed - Slice {PHANTOM_PIXELS // 2}\")\n",
    "plt.imshow(x_t[PHANTOM_PIXELS // 2, :, :], cmap='gray')\n",
    "plt.subplot(2, 2, 4)\n",
    "plt.title(f\"Transposed - Slice {PHANTOM_PIXELS * 3 // 4}\")\n",
    "plt.imshow(x_t[(3 * PHANTOM_PIXELS) // 4, :, :], cmap='gray')\n",
    "plt.show()"
   ]
  },
  {
   "cell_type": "code",
   "execution_count": null,
   "metadata": {},
   "outputs": [],
   "source": [
    "# We can now create a projection operator A\n",
    "'''\n",
    "    The projection operator (A) has two useful properties:\n",
    "    - domain_shape\n",
    "    - range_shape\n",
    "    that can be used to create volume and projection data\n",
    "\n",
    "    The projection data (x) is stored as a stack of sinograms\n",
    "    (following the ASTRA-toolbox convention):\n",
    "    - First dimension -> the height of the detector\n",
    "    - Second dimension -> the number of angles\n",
    "    - Third dimension -> the width of the detector\n",
    "'''\n",
    "A = ts.operator(vg, pg)\n",
    "print(f\"Domain A shape: {A.domain_shape}, Domain A range: {A.range_shape}\")\n",
    "\n",
    "# Create a projection by applying the operator to the data x\n",
    "y = A(x)\n",
    "print(f\"Projection shape: {y.shape}\")\n",
    "\n",
    "# Plot the projections using matplotlib\n",
    "fig = plt.figure(figsize=(8, 8))\n",
    "plt.subplot(2, 2, 1)\n",
    "plt.title(\"First projection (0/32)\")\n",
    "plt.imshow(y[:, 0, :])\n",
    "plt.subplot(2, 2, 2)\n",
    "plt.title(f\"Quarter rotation (8/32 = 1/4)\")\n",
    "plt.imshow(y[:, 8, :])\n",
    "plt.subplot(2, 2, 3)\n",
    "plt.title(\"Half rotation (16/32)\")\n",
    "plt.imshow(y[:, 16, :])\n",
    "plt.subplot(2, 2, 4)\n",
    "plt.title(f\"Three quarters rotation (24/32)\")\n",
    "plt.imshow(y[:, 24, :])\n",
    "plt.show();\n"
   ]
  },
  {
   "cell_type": "markdown",
   "metadata": {},
   "source": [
    "### Reconstruction - SIRT\n",
    "We will now as the last step, the reconstruction.\n",
    "In this case we will use the simple SIRT reconstruction method, and observe how we are ablw to reconstruct our object."
   ]
  },
  {
   "cell_type": "code",
   "execution_count": null,
   "metadata": {},
   "outputs": [],
   "source": [
    "# Prepare matrices R and C, we clamp values using np.mimum because there are values divided by 0\n",
    "R = 1 / A(np.ones(A.domain_shape, dtype=np.float32))\n",
    "R = np.minimum(R, 1 / ts.epsilon)\n",
    "C = 1 / A.T(np.ones(A.range_shape, dtype=np.float32))\n",
    "C = np.minimum(C, 1 / ts.epsilon)\n",
    "\n",
    "# Reconstruction frmo the sincogram stack y into x_rec\n",
    "num_iterations = 100\n",
    "x_rec = np.zeros(A.domain_shape, dtype=np.float32)\n",
    "\n",
    "for i in range(num_iterations):\n",
    "    x_rec += C * A.T(R * (y - A(x_rec)))"
   ]
  },
  {
   "cell_type": "code",
   "execution_count": null,
   "metadata": {},
   "outputs": [],
   "source": [
    "# Plot the reconstruction and phantom comparison\n",
    "x_rec_t = x_rec.transpose(2, 0, 1)\n",
    "fig = plt.figure(figsize=(8, 8))\n",
    "plt.subplot(2, 2, 1)\n",
    "plt.title(\"Central slice of phantom\")\n",
    "plt.imshow(x[16, :, :], cmap='gray')\n",
    "plt.subplot(2, 2, 2)\n",
    "plt.title(f\"Central slice of reconstruction\")\n",
    "plt.imshow(x_rec[16, :, :], cmap='gray')\n",
    "plt.subplot(2, 2, 3)\n",
    "plt.title(f\"Transposed - Phantom Slice {PHANTOM_PIXELS // 2}\")\n",
    "plt.imshow(x_t[PHANTOM_PIXELS // 2, :, :], cmap='gray')\n",
    "plt.subplot(2, 2, 4)\n",
    "plt.title(f\"Transposed - Reconstruction Slice {PHANTOM_PIXELS * 3 // 4}\")\n",
    "plt.imshow(x_rec_t[PHANTOM_PIXELS // 2, :, :], cmap='gray')\n",
    "plt.show();\n"
   ]
  },
  {
   "cell_type": "code",
   "execution_count": null,
   "metadata": {},
   "outputs": [],
   "source": []
  },
  {
   "cell_type": "code",
   "execution_count": null,
   "metadata": {},
   "outputs": [],
   "source": []
  },
  {
   "cell_type": "code",
   "execution_count": null,
   "metadata": {},
   "outputs": [],
   "source": []
  },
  {
   "cell_type": "code",
   "execution_count": null,
   "metadata": {},
   "outputs": [],
   "source": []
  }
 ],
 "metadata": {
  "kernelspec": {
   "display_name": "tomosipo",
   "language": "python",
   "name": "python3"
  },
  "language_info": {
   "codemirror_mode": {
    "name": "ipython",
    "version": 3
   },
   "file_extension": ".py",
   "mimetype": "text/x-python",
   "name": "python",
   "nbconvert_exporter": "python",
   "pygments_lexer": "ipython3",
   "version": "3.9.18"
  }
 },
 "nbformat": 4,
 "nbformat_minor": 2
}
